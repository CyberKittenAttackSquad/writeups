{
 "cells": [
  {
   "cell_type": "code",
   "execution_count": 131,
   "metadata": {
    "collapsed": false
   },
   "outputs": [],
   "source": [
    "from bs4 import BeautifulSoup\n",
    "import requests\n",
    "import warnings\n",
    "import time\n",
    "import random\n",
    "from functools import reduce\n",
    "from z3 import *"
   ]
  },
  {
   "cell_type": "code",
   "execution_count": 86,
   "metadata": {
    "collapsed": true
   },
   "outputs": [],
   "source": [
    "warnings.filterwarnings('ignore')"
   ]
  },
  {
   "cell_type": "code",
   "execution_count": 63,
   "metadata": {
    "collapsed": true
   },
   "outputs": [],
   "source": [
    "def get_x_y(html_text):\n",
    "    soup = BeautifulSoup(html_text, 'html.parser')\n",
    "    page = soup.find('p').getText()\n",
    "    token = page.split(' ')\n",
    "    x = int(token[3])\n",
    "    y = int(token[-1][0:-1])\n",
    "    return x,y"
   ]
  },
  {
   "cell_type": "code",
   "execution_count": 73,
   "metadata": {
    "collapsed": true
   },
   "outputs": [],
   "source": [
    "def check_if_at_start(html_text):\n",
    "    soup = BeautifulSoup(html_text, 'html.parser')\n",
    "    page = soup.find('p').getText()\n",
    "    if 'You are coming back home from a hard day sieving numbers at the river.' in page:\n",
    "        return True\n",
    "    else:\n",
    "        return False "
   ]
  },
  {
   "cell_type": "code",
   "execution_count": 81,
   "metadata": {
    "collapsed": true
   },
   "outputs": [],
   "source": [
    "def pick(num):\n",
    "    y = random.randint(0,1)\n",
    "    return num[y]"
   ]
  },
  {
   "cell_type": "code",
   "execution_count": 145,
   "metadata": {
    "collapsed": false
   },
   "outputs": [],
   "source": [
    "def get_two_guesses(session):\n",
    "    c1 = 0\n",
    "    c2 = 0\n",
    "\n",
    "    p = session.get('https://giant-goannas.ctfcompetition.com/', verify=False)\n",
    "\n",
    "    p2 = session.get('https://giant-goannas.ctfcompetition.com/start', verify=False)\n",
    "\n",
    "    p3 = session.get('https://giant-goannas.ctfcompetition.com/lake', verify=False)\n",
    "\n",
    "    x1,y1 = get_x_y(p3.text)\n",
    "    c1 = pick([x1,y1])\n",
    "    \n",
    "    p4 = session.post('https://giant-goannas.ctfcompetition.com/lake',  {'number':c1}, verify=False)\n",
    "\n",
    "\n",
    "    if check_if_at_start(p4.text):\n",
    "        print \"start again\"\n",
    "        c1 = 0\n",
    "    else:\n",
    "        print \"good first choice\"\n",
    "        x2,y2 = get_x_y(p4.text)\n",
    "        c2 = pick([x2,y2])\n",
    "        p5 = session.post('https://giant-goannas.ctfcompetition.com/lake',  {'number':c2}, verify=False)\n",
    "\n",
    "        if check_if_at_start(p5.text):\n",
    "            print \"start again\"\n",
    "            c2 = 0\n",
    "        else:\n",
    "            print \"good second choice\"\n",
    "            print c2\n",
    "            \n",
    "    if c1 >0 and c2 > 0:\n",
    "        return c1,c2, get_x_y(p5.text)\n",
    "    else:\n",
    "        return None, None, None"
   ]
  },
  {
   "cell_type": "code",
   "execution_count": 146,
   "metadata": {
    "collapsed": false
   },
   "outputs": [],
   "source": [
    "def marshall_initial(session):\n",
    "    c1, c2, X_Y = get_two_guesses(session)\n",
    "    while c1 == None:\n",
    "        c1, c2, X_Y = get_two_guesses(session)\n",
    "    return c1,c2, X_Y"
   ]
  },
  {
   "cell_type": "code",
   "execution_count": 147,
   "metadata": {
    "collapsed": true
   },
   "outputs": [],
   "source": [
    "def question_response(session,prng):\n",
    "    data = []\n",
    "    for i,C in enumerate(F[2:]):\n",
    "        p6 = session.post('https://giant-goannas.ctfcompetition.com/lake',  {'number':C}, verify=False)\n",
    "        cookie_ = requests.utils.dict_from_cookiejar(session.cookies)\n",
    "        if \"CTF\" in p6.text:\n",
    "            print p6.text\n",
    "            return p6.text \n",
    "        data.append((cookie_, p6.text, i, C))\n",
    "    return data"
   ]
  },
  {
   "cell_type": "code",
   "execution_count": 148,
   "metadata": {
    "collapsed": false
   },
   "outputs": [
    {
     "name": "stdout",
     "output_type": "stream",
     "text": [
      "start again\n",
      "start again\n",
      "good first choice\n",
      "good second choice\n",
      "1889866598\n",
      "(1549775032, 3696378569)\n",
      "(122255545, 2785632374)\n"
     ]
    }
   ],
   "source": [
    "session = requests.session()\n",
    "c1,c2, X_Y =  marshall_initial(session)\n",
    "\n",
    "first_correct_number = c1\n",
    "second_correct_number = c2\n",
    "\n",
    "third_question_options = X_Y\n",
    "\n",
    "possibilites = my_solver(first_correct_number,second_correct_number,SIZE=36)\n",
    "x,y = final_check(third_question_options,possibilites)\n",
    "F = generate_random(x,y,100000)"
   ]
  },
  {
   "cell_type": "code",
   "execution_count": 149,
   "metadata": {
    "collapsed": false
   },
   "outputs": [
    {
     "name": "stdout",
     "output_type": "stream",
     "text": [
      "Congratulations, here is your reward: CTF{_!_aRe_y0U_tH3_NSA_:-?_!_}\n"
     ]
    },
    {
     "data": {
      "text/plain": [
       "u'Congratulations, here is your reward: CTF{_!_aRe_y0U_tH3_NSA_:-?_!_}'"
      ]
     },
     "execution_count": 149,
     "metadata": {},
     "output_type": "execute_result"
    }
   ],
   "source": [
    "question_response(session,F)"
   ]
  },
  {
   "cell_type": "code",
   "execution_count": 99,
   "metadata": {
    "collapsed": true
   },
   "outputs": [],
   "source": [
    "def my_solver(g_1,g_2,SIZE=36):\n",
    "    x = BitVec('x', SIZE)\n",
    "    y = BitVec('y', SIZE)\n",
    "    P1 = (2*x + 3) % 4646704883\n",
    "    P2 = (3*y + 9) % 4646704883\n",
    "\n",
    "    x2 = BitVec('x2', SIZE)\n",
    "    y2 = BitVec('y2', SIZE)\n",
    "    P1_2 = (2*P1 + 3) % 4646704883\n",
    "    P2_2 = (3*P2 + 9) % 4646704883\n",
    "\n",
    "    s = Solver()\n",
    "    s.add(P1 < 4646704883)\n",
    "    s.add(P2 < 4646704883)\n",
    "    s.add(x < 4646704883)\n",
    "    s.add(y < 4646704883)\n",
    "    s.add(P1^P2 == g_1)\n",
    "\n",
    "\n",
    "    s.add(P1_2 < 4646704883)\n",
    "    s.add(P2_2 < 4646704883)\n",
    "    s.add(x2 < 4646704883)\n",
    "    s.add(y2 < 4646704883)\n",
    "    s.add(P1_2^P2_2 == g_2)\n",
    "\n",
    "    keep = []\n",
    "    while s.check() == sat:\n",
    "        x_p = s.model()[x].as_long()\n",
    "        y_p = s.model()[y].as_long()\n",
    "        X = (2* x_p + 3) % 4646704883\n",
    "        Y = (3* y_p + 9) % 4646704883\n",
    "        K = X ^ Y\n",
    "        s.add(Or(x != s.model()[x], y != s.model()[y]))\n",
    "        if K == g_1:\n",
    "            print(x_p, y_p)\n",
    "            keep.append((x_p,y_p))\n",
    "    return keep"
   ]
  },
  {
   "cell_type": "code",
   "execution_count": 100,
   "metadata": {
    "collapsed": true
   },
   "outputs": [],
   "source": [
    "def generate_random(x_i,y_i,how_many):\n",
    "    K = [] \n",
    "    a = (2 * x_i + 3) % 4646704883\n",
    "    b = (3 * y_i + 9) % 4646704883\n",
    "    K.append(a^b)\n",
    "    for i in range(0,how_many):\n",
    "        a = (2 * a + 3) % 4646704883\n",
    "        b = (3 * b + 9) % 4646704883\n",
    "        K.append(a^b)\n",
    "    return K"
   ]
  },
  {
   "cell_type": "code",
   "execution_count": 101,
   "metadata": {
    "collapsed": true
   },
   "outputs": [],
   "source": [
    "def get_correct_initial(possibilites, test):\n",
    "    for i,p in enumerate(possibilites):\n",
    "        if test in generate_random(p[0],p[1],5):\n",
    "            return i\n",
    "    return None "
   ]
  },
  {
   "cell_type": "code",
   "execution_count": 102,
   "metadata": {
    "collapsed": true
   },
   "outputs": [],
   "source": [
    "def final_check(guesses,possibilites):\n",
    "    for i,g in enumerate(guesses):\n",
    "        i = get_correct_initial(possibilites,g)\n",
    "        if i != None:\n",
    "            x,y = possibilites[i]\n",
    "            return(x,y)\n",
    "    return None"
   ]
  }
 ],
 "metadata": {
  "kernelspec": {
   "display_name": "Python 2",
   "language": "python",
   "name": "python2"
  },
  "language_info": {
   "codemirror_mode": {
    "name": "ipython",
    "version": 2
   },
   "file_extension": ".py",
   "mimetype": "text/x-python",
   "name": "python",
   "nbconvert_exporter": "python",
   "pygments_lexer": "ipython2",
   "version": "2.7.11"
  }
 },
 "nbformat": 4,
 "nbformat_minor": 0
}
